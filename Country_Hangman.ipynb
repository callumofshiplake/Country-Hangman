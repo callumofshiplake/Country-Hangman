{
 "cells": [
  {
   "cell_type": "code",
   "execution_count": 5,
   "metadata": {
    "scrolled": false
   },
   "outputs": [],
   "source": [
    "#Guess the Country Hangman Style\n",
    "\n",
    "def play_game():\n",
    "\n",
    "    import time\n",
    "    import random\n",
    "\n",
    "    name = input(\"What is your name? \")\n",
    "    print(\"\")\n",
    "    time.sleep(1.5)\n",
    "    print(\"Hello, \" + name, \"time to play guess the Country!\")\n",
    "    print(\"\")\n",
    "    time.sleep(1.5)\n",
    "    print(\"First some rules:\")\n",
    "    time.sleep(1.5)\n",
    "    print(\"Each underscore indicates a letter or a space\")\n",
    "    time.sleep(1.5)\n",
    "    print(\"Both upper and lower case letters are accepted\")\n",
    "    time.sleep(1.5)\n",
    "    print(\"You only lose a turn if you get a guess wrong\")\n",
    "    print(\"\")\n",
    "\n",
    "    time.sleep(1.5)\n",
    "\n",
    "    print(\"You ready to play a game?\")\n",
    "    print(\"\")\n",
    "    time.sleep(1.5)\n",
    "\n",
    "    text_file_out_R = open(\"countires.txt\", \"r\")\n",
    "    text_file_out = text_file_out_R.readlines()\n",
    "    Countries = \"\"\n",
    "\n",
    "    for line in text_file_out:\n",
    "        Countries += line\n",
    "\n",
    "    counties = Countries.split()\n",
    "    word = random.choice(counties)\n",
    "    word = word.lower()\n",
    "\n",
    "    guesses = ''\n",
    "    turns = 1\n",
    "\n",
    "    while turns > 0:\n",
    "        failed = 0\n",
    "        for item in word:\n",
    "            if item in guesses:\n",
    "                print(item, end=' ')\n",
    "            else:\n",
    "                print(\"_\", end=' ')\n",
    "                failed += 1\n",
    "        if failed == 0:\n",
    "            print('')\n",
    "            time.sleep(1.5)\n",
    "            print (\"You won\")\n",
    "            break\n",
    "        print(\"\")\n",
    "        guess = input(\"guess a character: \")\n",
    "        guess = guess.lower()\n",
    "        guesses += guess\n",
    "        if guess not in word:\n",
    "            turns -= 1\n",
    "            time.sleep(1)\n",
    "            print(\"Wrong\")\n",
    "            time.sleep(1)\n",
    "            print(\"You have\", + turns, 'more guesses')\n",
    "            if turns == 0:\n",
    "                print('')\n",
    "                time.sleep(1.5)\n",
    "                print(\"You Loose the word was: \" + word)\n",
    "    return\n"
   ]
  },
  {
   "cell_type": "code",
   "execution_count": 6,
   "metadata": {},
   "outputs": [
    {
     "name": "stdout",
     "output_type": "stream",
     "text": [
      "What is your name? g\n",
      "\n",
      "Hello, g time to play guess the Country!\n",
      "\n",
      "First some rules:\n",
      "Each underscore indicates a letter or a space\n",
      "Both upper and lower case letters are accepted\n",
      "You only lose a turn if you get a guess wrong\n",
      "\n",
      "You ready to play a game?\n",
      "\n",
      "_ _ _ _ _ _ _ _ \n",
      "guess a character: g\n",
      "Wrong\n",
      "You have 0 more guesses\n",
      "\n",
      "You Loose the word was: maldives\n"
     ]
    }
   ],
   "source": [
    "play_game()"
   ]
  },
  {
   "cell_type": "code",
   "execution_count": null,
   "metadata": {},
   "outputs": [],
   "source": [
    "#Still to add:\n",
    "    #Scoring system\n",
    "        #Is reset everytime the function is run\n",
    "    #Want a black line above guess a character\n",
    "    #Having capatalised letters at the start words"
   ]
  },
  {
   "cell_type": "code",
   "execution_count": null,
   "metadata": {},
   "outputs": [],
   "source": [
    "#import nltk\n",
    "#nltk.download()\n",
    "#from nltk.book import *\n",
    "#text3.generate()"
   ]
  },
  {
   "cell_type": "code",
   "execution_count": 8,
   "metadata": {},
   "outputs": [
    {
     "name": "stdout",
     "output_type": "stream",
     "text": [
      "3.6.5 |Anaconda, Inc.| (default, Mar 29 2018, 13:32:41) [MSC v.1900 64 bit (AMD64)]\n"
     ]
    }
   ],
   "source": [
    "import sys\n",
    "print (sys.version)"
   ]
  },
  {
   "cell_type": "code",
   "execution_count": 1,
   "metadata": {},
   "outputs": [
    {
     "name": "stderr",
     "output_type": "stream",
     "text": [
      "UsageError: Line magic function `%install_ext` not found.\n"
     ]
    }
   ],
   "source": [
    "%install_ext https://raw.githubusercontent.com/SiggyF/notebooks/master/pep8_magic.py"
   ]
  },
  {
   "cell_type": "code",
   "execution_count": null,
   "metadata": {},
   "outputs": [],
   "source": []
  }
 ],
 "metadata": {
  "kernelspec": {
   "display_name": "Python 3",
   "language": "python",
   "name": "python3"
  },
  "language_info": {
   "codemirror_mode": {
    "name": "ipython",
    "version": 3
   },
   "file_extension": ".py",
   "mimetype": "text/x-python",
   "name": "python",
   "nbconvert_exporter": "python",
   "pygments_lexer": "ipython3",
   "version": "3.6.5"
  }
 },
 "nbformat": 4,
 "nbformat_minor": 2
}
